{
 "cells": [
  {
   "cell_type": "markdown",
   "metadata": {},
   "source": [
    "# CS 180 Machine Project: Global Temperatures"
   ]
  },
  {
   "cell_type": "markdown",
   "metadata": {},
   "source": [
    "The project aims to find an effective machine learning algorithm that can predict whether a Twitter user supports the belief in man-made climate change.\n",
    "\n",
    "### Features\n",
    "The features to be extracted are:\n",
    "<br>\n",
    "* Unigrams\n",
    "* Bigrams\n",
    "* Trigrams\n",
    "<br>\n",
    "\n",
    "### Model\n",
    "The models to be used are:\n",
    "<br>\n",
    "* Support Vector Machine\n",
    "* Decision Trees\n",
    "<br>\n",
    "<br>\n",
    "---\n",
    "! Run the cell below to load the libraries to be used in the project"
   ]
  },
  {
   "cell_type": "code",
   "execution_count": 57,
   "metadata": {},
   "outputs": [],
   "source": [
    "import pandas as pd\n",
    "import re\n",
    "import string\n",
    "import numpy as np\n",
    "from nltk.tokenize import word_tokenize\n",
    "from nltk.corpus import stopwords\n",
    "from nltk.stem import WordNetLemmatizer\n",
    "from sklearn.model_selection import train_test_split\n",
    "from sklearn.feature_extraction.text import TfidfVectorizer\n",
    "from sklearn import svm\n",
    "from sklearn.tree import DecisionTreeClassifier\n",
    "from sklearn.metrics import classification_report, multilabel_confusion_matrix, ConfusionMatrixDisplay, confusion_matrix, accuracy_score, f1_score, recall_score, precision_score\n",
    "from collections import defaultdict"
   ]
  },
  {
   "cell_type": "markdown",
   "metadata": {},
   "source": [
    "### Data Import\n",
    "\n",
    "The Twitter data comes from two datasets:\n",
    "<br>\n",
    "* Kaggle\n",
    "* data.world\n",
    "<br>\n",
    "\n",
    "The Twitter sentiments needed are:\n",
    "<br>\n",
    "1. Pro\n",
    "2. Anti\n",
    "3. Neutral \n",
    "<br>\n",
    "<br>\n",
    "---\n",
    "! Run the cell below to import the data"
   ]
  },
  {
   "cell_type": "code",
   "execution_count": 3,
   "metadata": {},
   "outputs": [],
   "source": [
    "data1 = pd.read_csv(\"../data/kaggle_twitter_data.csv\")\n",
    "data2 = pd.read_csv(\"../data/dataworld_twitter_data.csv\")\n",
    "\n",
    "# Remove other columns\n",
    "data1 = data1[[\"sentiment\", \"tweet\"]]\n",
    "data2 = data2[[\"sentiment\", \"tweet\"]]\n",
    "\n",
    "# Remove sentiment=2 from Kaggle data set\n",
    "data1 = data1[data1.sentiment != 2]\n",
    "\n",
    "frames = [data1, data2]\n",
    "\n",
    "# All data\n",
    "data = pd.concat(frames, ignore_index=True)"
   ]
  },
  {
   "cell_type": "markdown",
   "metadata": {},
   "source": [
    "### Data Preprocessing\n",
    "\n",
    "The data (the Tweet) is preprocessed such that:\n",
    "1. Rows with NAN are dropped\n",
    "2. Tweet is converted to string\n",
    "3. Tweets are lowercased\n",
    "4. Removes non-English Characters from the Tweet\n",
    "5. Removes URLs from the Tweet\n",
    "6. Removing RT and hyperlink from Tweet\n",
    "7. Removes @ and # from Tweet\n",
    "8. Remove stopwords from Tweet\n",
    "9. Remove numbers from Tweet\n",
    "10. Remove punctuations from Tweet\n",
    "11. The Tweet is tokenized\n",
    "12. The Tweet is lemmatized\n",
    "<br>\n",
    "\n",
    "After that, the preprocessed tweet is a new column to the dataset\n",
    "<br>\n",
    "---\n",
    "! Run the cell below to preprocess the data"
   ]
  },
  {
   "cell_type": "code",
   "execution_count": 4,
   "metadata": {},
   "outputs": [],
   "source": [
    "# Pre-processing\n",
    "# Drop rows with NA or NAN\n",
    "data = data.dropna()\n",
    "\n",
    "df = data[\"tweet\"]\n",
    "\n",
    "# Make tweet to str\n",
    "df = df.apply(str)\n",
    "\n",
    "# Lowercase all words\n",
    "df = df.apply(lambda x: x.lower())\n",
    "\n",
    "# Remove non-English characters\n",
    "df = df.apply(lambda x: x.encode(\"ascii\", \"ignore\").decode())\n",
    "\n",
    "# Remove URLS\n",
    "df = df.apply(\n",
    "    lambda x: re.sub(r\"http?://[A-Za-z0-9./]+\", \"\", x, flags=re.MULTILINE)\n",
    ")\n",
    "df = df.apply(\n",
    "    lambda x: re.sub(r\"https?://[A-Za-z0-9./]+\", \"\", x, flags=re.MULTILINE)\n",
    ")\n",
    "df = df.apply(\n",
    "    lambda x: re.sub(r\"www?://[A-Za-z0-9./]+\", \"\", x, flags=re.MULTILINE)\n",
    ")\n",
    "\n",
    "# Removing RT and link\n",
    "df = df.apply(lambda x: re.sub(r\"\\bRT\\b\", \"\", x).strip())\n",
    "df = df.apply(lambda x: re.sub(r\"\\blink\\b\", \"\", x).strip())\n",
    "\n",
    "# Remove @ and #\n",
    "df = df.apply(lambda x: re.sub(r\"@[A-Za-z0-9_]+\", \"\", x))\n",
    "df = df.apply(lambda x: re.sub(r\"#[A-Za-z0-9_]+\", \"\", x))\n",
    "\n",
    "# Remove stopwords\n",
    "stop = stopwords.words(\"english\")\n",
    "df = df.apply(lambda x: \" \".join([x for x in x.split() if x not in stop]))\n",
    "\n",
    "# Remove numbers\n",
    "df = df.apply(lambda x: re.sub(r\"[0-9]+\", \"\", x))\n",
    "\n",
    "# Remove punctuations\n",
    "df = df.apply(lambda x: x.translate(str.maketrans('', '', string.punctuation)))\n",
    "\n",
    "# Tokenized\n",
    "tokenizedTweets = [word_tokenize(x) for x in df]\n",
    "\n",
    "# Lemmatize\n",
    "lemmatizer = WordNetLemmatizer()\n",
    "for tweet in tokenizedTweets:\n",
    "    for word in tweet:\n",
    "        word = lemmatizer.lemmatize(word)\n",
    "\n",
    "processed = tokenizedTweets\n",
    "\n",
    "# Append changed tweet to database\n",
    "final = []\n",
    "for x in range(len(processed)):\n",
    "    final.append(\" \".join(processed[x]))\n",
    "\n",
    "out = pd.DataFrame(final)\n",
    "\n",
    "data[\"changedtweet\"] = out"
   ]
  },
  {
   "cell_type": "markdown",
   "metadata": {},
   "source": [
    "### Splitting of Data\n",
    "\n",
    "The data is split into three categories:\n",
    "<br>\n",
    "* Positive\n",
    "* Negative\n",
    "* Neutral\n",
    "<br>\n",
    "\n",
    "The first 5000 tweets in a category's dataset are to be used for testing and training.\n",
    "\n",
    "For each category, the samples are split such that there are 60% tweets for training and 40% tweets for testing.\n",
    "Therefore, for each category, there are:\n",
    "<br>\n",
    "* 3000 tweets for training\n",
    "* 2000 tweets for testing\n",
    "<br>\n",
    "---\n",
    "! Run the cell below to split the dataset"
   ]
  },
  {
   "cell_type": "code",
   "execution_count": 5,
   "metadata": {},
   "outputs": [],
   "source": [
    "# 5000 samples per label\n",
    "positive = data[data[\"sentiment\"] == 1][:5000]\n",
    "negative = data[data[\"sentiment\"] == -1][:5000]\n",
    "neutral = data[data[\"sentiment\"] == 0][:5000]\n",
    "\n",
    "#The features are extracted from the changed tweet and the target is the sentiment\n",
    "features = [\"changedtweet\"]\n",
    "targets = [\"sentiment\"]\n",
    "\n",
    "#Create an empty Dataframe for features in train and test and sentiment in train and test\n",
    "X_train = pd.DataFrame(columns = features)\n",
    "X_test = pd.DataFrame(columns = features)\n",
    "y_train = pd.DataFrame(columns = targets)\n",
    "y_test = pd.DataFrame(columns = targets)\n",
    "\n",
    "#Set an empty array to append the tweets\n",
    "X_train_list = []\n",
    "X_test_list = []\n",
    "y_train_list = []\n",
    "y_test_list = []\n",
    "\n",
    "for category in (positive, negative, neutral):\n",
    "    X = category[\"changedtweet\"]\n",
    "    y = category[\"sentiment\"]\n",
    "    Xs_train, Xs_test, ys_train, ys_test = train_test_split(X, y, random_state=0, train_size=0.6) #Split the dataset\n",
    "    \n",
    "    #Append the split data set to the array\n",
    "    X_train_list.append(Xs_train)\n",
    "    X_test_list.append(Xs_test)\n",
    "    y_train_list.append(ys_train)\n",
    "    y_test_list.append(ys_test)\n",
    "\n",
    "#Concat the three categories to create one dataset\n",
    "X_train = pd.concat(X_train_list, ignore_index=True)\n",
    "X_test = pd.concat(X_test_list, ignore_index=True)\n",
    "y_train = pd.concat(y_train_list, ignore_index=True)\n",
    "y_test = pd.concat(y_test_list, ignore_index=True)"
   ]
  },
  {
   "cell_type": "markdown",
   "metadata": {},
   "source": [
    "### Displaying of Top <i>n</i> Terms with the Highest TF-IDF Scores\n",
    "\n",
    "To compare the effectiveness of unigrams, bigrams, and trigrams as features, the top n-grams with the highest TF-IDF scores are observed.\n",
    "\n",
    "---\n",
    "! Run the cell below to create a function that will display the top <i>n</i> terms with the highest TF-IDF scores"
   ]
  },
  {
   "cell_type": "code",
   "execution_count": 6,
   "metadata": {},
   "outputs": [],
   "source": [
    "def display_top_n_scores(vectorizer, tfidf_result, n):\n",
    "    print(\"Here are the top {} terms with the highest TF-IDF scores:\".format(n))\n",
    "    # http://stackoverflow.com/questions/16078015/\n",
    "    scores = zip(vectorizer.get_feature_names_out(),\n",
    "                 np.asarray(tfidf_result.sum(axis=0)).ravel())\n",
    "    sorted_scores = sorted(scores, key=lambda x: x[1], reverse=True)\n",
    "\n",
    "    for item in sorted_scores[:n]:\n",
    "        print (\"{0:50} Score: {1}\".format(item[0], item[1]))"
   ]
  },
  {
   "cell_type": "markdown",
   "metadata": {},
   "source": [
    "### Feature Extraction (Unigrams)\n",
    "\n",
    "To extract the feature, use a TF-IDF vectorizer.\n",
    "<br>\n",
    "---\n",
    "! Run the cell below to vectorize the tweets by unigrams, and to see the top 20 unigrams with the highest frequencies"
   ]
  },
  {
   "cell_type": "code",
   "execution_count": 7,
   "metadata": {},
   "outputs": [
    {
     "name": "stdout",
     "output_type": "stream",
     "text": [
      "Here are the top 20 terms with the highest TF-IDF scores:\n",
      "rt                                                 Score: 464.8180387705098\n",
      "climate                                            Score: 457.19713442234763\n",
      "change                                             Score: 450.12761713238655\n",
      "global                                             Score: 445.2623973558041\n",
      "warming                                            Score: 440.5491615073265\n",
      "believe                                            Score: 252.5883399915949\n",
      "going                                              Score: 208.8780079248239\n",
      "die                                                Score: 157.88403068424046\n",
      "thinking                                           Score: 156.70479971372137\n",
      "husband                                            Score: 153.81056541410138\n",
      "trump                                              Score: 135.77853203835286\n",
      "real                                               Score: 102.90316884634767\n",
      "hoax                                               Score: 100.22004585692369\n",
      "people                                             Score: 98.85822803423092\n",
      "world                                              Score: 95.68365310471468\n",
      "us                                                 Score: 84.43628298437152\n",
      "amp                                                Score: 76.09991150481638\n",
      "say                                                Score: 71.48206517290596\n",
      "like                                               Score: 69.08537149831548\n",
      "presidentelect                                     Score: 67.81600693504858\n"
     ]
    }
   ],
   "source": [
    "#To extract the features use TF-IDF vectorizer\n",
    "Tfidf_vect = TfidfVectorizer(ngram_range=(1,1)) #Unigram\n",
    "Tfidf_vect.fit(data['changedtweet']) #Fit the vectorizer to the pre-processed tweets\n",
    "Train_X_Tfidf = Tfidf_vect.transform(X_train) #Get the vectorized tweets for trainig\n",
    "Test_X_Tfidf = Tfidf_vect.transform(X_test) #Get the vectorized tweets for testing\n",
    "\n",
    "display_top_n_scores(Tfidf_vect, Train_X_Tfidf, 20)"
   ]
  },
  {
   "cell_type": "markdown",
   "metadata": {},
   "source": [
    "### SVM Algorithm for Unigrams\n",
    "\n",
    "The SVM is set up with the hyperparameters:\n",
    "<br>\n",
    "* Kernel- Radial Basis Function\n",
    "* Gamma- 1.3\n",
    "* C- 1000\n",
    "<br>"
   ]
  },
  {
   "cell_type": "code",
   "execution_count": 60,
   "metadata": {},
   "outputs": [
    {
     "name": "stdout",
     "output_type": "stream",
     "text": [
      "SVM Classification Report for Unigrams\n",
      "              precision    recall  f1-score   support\n",
      "\n",
      "          -1       0.63      0.55      0.59      2000\n",
      "           0       0.51      0.78      0.62      2000\n",
      "           1       0.98      0.59      0.73      2000\n",
      "\n",
      "    accuracy                           0.64      6000\n",
      "   macro avg       0.71      0.64      0.65      6000\n",
      "weighted avg       0.71      0.64      0.65      6000\n",
      "\n",
      "SVM Accuracy Score for Unigrams-> 64.0\n",
      "SVM Precision Score for Unigrams-> 67.4366\n",
      "SVM Recall Score for Unigrams-> 64.0\n",
      "SVM F1 Score for Unigrams-> 63.2697\n",
      "\n",
      "SVM Confusion Matrix for Unigrams\n"
     ]
    },
    {
     "ename": "TypeError",
     "evalue": "Singleton array array(<6000x220633 sparse matrix of type '<class 'numpy.float64'>'\n\twith 49090 stored elements in Compressed Sparse Row format>, dtype=object) cannot be considered a valid collection.",
     "output_type": "error",
     "traceback": [
      "\u001b[0;31m---------------------------------------------------------------------------\u001b[0m",
      "\u001b[0;31mTypeError\u001b[0m                                 Traceback (most recent call last)",
      "\u001b[0;32m/var/folders/tt/_nr7wyls305bwbpb0t8sz1g00000gn/T/ipykernel_2813/3955055360.py\u001b[0m in \u001b[0;36m<module>\u001b[0;34m\u001b[0m\n\u001b[1;32m     23\u001b[0m \u001b[0mConfusionMatrixDisplay\u001b[0m\u001b[0;34m.\u001b[0m\u001b[0mfrom_estimator\u001b[0m\u001b[0;34m(\u001b[0m\u001b[0mSVM\u001b[0m\u001b[0;34m,\u001b[0m \u001b[0mTest_X_Tfidf\u001b[0m\u001b[0;34m,\u001b[0m \u001b[0my_test\u001b[0m\u001b[0;34m)\u001b[0m\u001b[0;34m\u001b[0m\u001b[0;34m\u001b[0m\u001b[0m\n\u001b[1;32m     24\u001b[0m \u001b[0;34m\u001b[0m\u001b[0m\n\u001b[0;32m---> 25\u001b[0;31m \u001b[0mcm\u001b[0m\u001b[0;34m=\u001b[0m\u001b[0mmultilabel_confusion_matrix\u001b[0m\u001b[0;34m(\u001b[0m\u001b[0mnp\u001b[0m\u001b[0;34m.\u001b[0m\u001b[0marray\u001b[0m\u001b[0;34m(\u001b[0m\u001b[0mTest_X_Tfidf\u001b[0m\u001b[0;34m)\u001b[0m\u001b[0;34m,\u001b[0m \u001b[0mnp\u001b[0m\u001b[0;34m.\u001b[0m\u001b[0marray\u001b[0m\u001b[0;34m(\u001b[0m\u001b[0my_test\u001b[0m\u001b[0;34m)\u001b[0m\u001b[0;34m,\u001b[0m \u001b[0mlabels\u001b[0m\u001b[0;34m=\u001b[0m\u001b[0mSVM\u001b[0m\u001b[0;34m.\u001b[0m\u001b[0mclasses_\u001b[0m\u001b[0;34m)\u001b[0m\u001b[0;34m\u001b[0m\u001b[0;34m\u001b[0m\u001b[0m\n\u001b[0m\u001b[1;32m     26\u001b[0m \u001b[0mprint\u001b[0m\u001b[0;34m(\u001b[0m\u001b[0mcm\u001b[0m\u001b[0;34m)\u001b[0m\u001b[0;34m\u001b[0m\u001b[0;34m\u001b[0m\u001b[0m\n",
      "\u001b[0;32m/Library/Frameworks/Python.framework/Versions/3.9/lib/python3.9/site-packages/sklearn/metrics/_classification.py\u001b[0m in \u001b[0;36mmultilabel_confusion_matrix\u001b[0;34m(y_true, y_pred, sample_weight, labels, samplewise)\u001b[0m\n\u001b[1;32m    477\u001b[0m             [1, 2]]])\n\u001b[1;32m    478\u001b[0m     \"\"\"\n\u001b[0;32m--> 479\u001b[0;31m     \u001b[0my_type\u001b[0m\u001b[0;34m,\u001b[0m \u001b[0my_true\u001b[0m\u001b[0;34m,\u001b[0m \u001b[0my_pred\u001b[0m \u001b[0;34m=\u001b[0m \u001b[0m_check_targets\u001b[0m\u001b[0;34m(\u001b[0m\u001b[0my_true\u001b[0m\u001b[0;34m,\u001b[0m \u001b[0my_pred\u001b[0m\u001b[0;34m)\u001b[0m\u001b[0;34m\u001b[0m\u001b[0;34m\u001b[0m\u001b[0m\n\u001b[0m\u001b[1;32m    480\u001b[0m     \u001b[0;32mif\u001b[0m \u001b[0msample_weight\u001b[0m \u001b[0;32mis\u001b[0m \u001b[0;32mnot\u001b[0m \u001b[0;32mNone\u001b[0m\u001b[0;34m:\u001b[0m\u001b[0;34m\u001b[0m\u001b[0;34m\u001b[0m\u001b[0m\n\u001b[1;32m    481\u001b[0m         \u001b[0msample_weight\u001b[0m \u001b[0;34m=\u001b[0m \u001b[0mcolumn_or_1d\u001b[0m\u001b[0;34m(\u001b[0m\u001b[0msample_weight\u001b[0m\u001b[0;34m)\u001b[0m\u001b[0;34m\u001b[0m\u001b[0;34m\u001b[0m\u001b[0m\n",
      "\u001b[0;32m/Library/Frameworks/Python.framework/Versions/3.9/lib/python3.9/site-packages/sklearn/metrics/_classification.py\u001b[0m in \u001b[0;36m_check_targets\u001b[0;34m(y_true, y_pred)\u001b[0m\n\u001b[1;32m     82\u001b[0m     \u001b[0my_pred\u001b[0m \u001b[0;34m:\u001b[0m \u001b[0marray\u001b[0m \u001b[0;32mor\u001b[0m \u001b[0mindicator\u001b[0m \u001b[0mmatrix\u001b[0m\u001b[0;34m\u001b[0m\u001b[0;34m\u001b[0m\u001b[0m\n\u001b[1;32m     83\u001b[0m     \"\"\"\n\u001b[0;32m---> 84\u001b[0;31m     \u001b[0mcheck_consistent_length\u001b[0m\u001b[0;34m(\u001b[0m\u001b[0my_true\u001b[0m\u001b[0;34m,\u001b[0m \u001b[0my_pred\u001b[0m\u001b[0;34m)\u001b[0m\u001b[0;34m\u001b[0m\u001b[0;34m\u001b[0m\u001b[0m\n\u001b[0m\u001b[1;32m     85\u001b[0m     \u001b[0mtype_true\u001b[0m \u001b[0;34m=\u001b[0m \u001b[0mtype_of_target\u001b[0m\u001b[0;34m(\u001b[0m\u001b[0my_true\u001b[0m\u001b[0;34m,\u001b[0m \u001b[0minput_name\u001b[0m\u001b[0;34m=\u001b[0m\u001b[0;34m\"y_true\"\u001b[0m\u001b[0;34m)\u001b[0m\u001b[0;34m\u001b[0m\u001b[0;34m\u001b[0m\u001b[0m\n\u001b[1;32m     86\u001b[0m     \u001b[0mtype_pred\u001b[0m \u001b[0;34m=\u001b[0m \u001b[0mtype_of_target\u001b[0m\u001b[0;34m(\u001b[0m\u001b[0my_pred\u001b[0m\u001b[0;34m,\u001b[0m \u001b[0minput_name\u001b[0m\u001b[0;34m=\u001b[0m\u001b[0;34m\"y_pred\"\u001b[0m\u001b[0;34m)\u001b[0m\u001b[0;34m\u001b[0m\u001b[0;34m\u001b[0m\u001b[0m\n",
      "\u001b[0;32m/Library/Frameworks/Python.framework/Versions/3.9/lib/python3.9/site-packages/sklearn/utils/validation.py\u001b[0m in \u001b[0;36mcheck_consistent_length\u001b[0;34m(*arrays)\u001b[0m\n\u001b[1;32m    378\u001b[0m     \"\"\"\n\u001b[1;32m    379\u001b[0m \u001b[0;34m\u001b[0m\u001b[0m\n\u001b[0;32m--> 380\u001b[0;31m     \u001b[0mlengths\u001b[0m \u001b[0;34m=\u001b[0m \u001b[0;34m[\u001b[0m\u001b[0m_num_samples\u001b[0m\u001b[0;34m(\u001b[0m\u001b[0mX\u001b[0m\u001b[0;34m)\u001b[0m \u001b[0;32mfor\u001b[0m \u001b[0mX\u001b[0m \u001b[0;32min\u001b[0m \u001b[0marrays\u001b[0m \u001b[0;32mif\u001b[0m \u001b[0mX\u001b[0m \u001b[0;32mis\u001b[0m \u001b[0;32mnot\u001b[0m \u001b[0;32mNone\u001b[0m\u001b[0;34m]\u001b[0m\u001b[0;34m\u001b[0m\u001b[0;34m\u001b[0m\u001b[0m\n\u001b[0m\u001b[1;32m    381\u001b[0m     \u001b[0muniques\u001b[0m \u001b[0;34m=\u001b[0m \u001b[0mnp\u001b[0m\u001b[0;34m.\u001b[0m\u001b[0munique\u001b[0m\u001b[0;34m(\u001b[0m\u001b[0mlengths\u001b[0m\u001b[0;34m)\u001b[0m\u001b[0;34m\u001b[0m\u001b[0;34m\u001b[0m\u001b[0m\n\u001b[1;32m    382\u001b[0m     \u001b[0;32mif\u001b[0m \u001b[0mlen\u001b[0m\u001b[0;34m(\u001b[0m\u001b[0muniques\u001b[0m\u001b[0;34m)\u001b[0m \u001b[0;34m>\u001b[0m \u001b[0;36m1\u001b[0m\u001b[0;34m:\u001b[0m\u001b[0;34m\u001b[0m\u001b[0;34m\u001b[0m\u001b[0m\n",
      "\u001b[0;32m/Library/Frameworks/Python.framework/Versions/3.9/lib/python3.9/site-packages/sklearn/utils/validation.py\u001b[0m in \u001b[0;36m<listcomp>\u001b[0;34m(.0)\u001b[0m\n\u001b[1;32m    378\u001b[0m     \"\"\"\n\u001b[1;32m    379\u001b[0m \u001b[0;34m\u001b[0m\u001b[0m\n\u001b[0;32m--> 380\u001b[0;31m     \u001b[0mlengths\u001b[0m \u001b[0;34m=\u001b[0m \u001b[0;34m[\u001b[0m\u001b[0m_num_samples\u001b[0m\u001b[0;34m(\u001b[0m\u001b[0mX\u001b[0m\u001b[0;34m)\u001b[0m \u001b[0;32mfor\u001b[0m \u001b[0mX\u001b[0m \u001b[0;32min\u001b[0m \u001b[0marrays\u001b[0m \u001b[0;32mif\u001b[0m \u001b[0mX\u001b[0m \u001b[0;32mis\u001b[0m \u001b[0;32mnot\u001b[0m \u001b[0;32mNone\u001b[0m\u001b[0;34m]\u001b[0m\u001b[0;34m\u001b[0m\u001b[0;34m\u001b[0m\u001b[0m\n\u001b[0m\u001b[1;32m    381\u001b[0m     \u001b[0muniques\u001b[0m \u001b[0;34m=\u001b[0m \u001b[0mnp\u001b[0m\u001b[0;34m.\u001b[0m\u001b[0munique\u001b[0m\u001b[0;34m(\u001b[0m\u001b[0mlengths\u001b[0m\u001b[0;34m)\u001b[0m\u001b[0;34m\u001b[0m\u001b[0;34m\u001b[0m\u001b[0m\n\u001b[1;32m    382\u001b[0m     \u001b[0;32mif\u001b[0m \u001b[0mlen\u001b[0m\u001b[0;34m(\u001b[0m\u001b[0muniques\u001b[0m\u001b[0;34m)\u001b[0m \u001b[0;34m>\u001b[0m \u001b[0;36m1\u001b[0m\u001b[0;34m:\u001b[0m\u001b[0;34m\u001b[0m\u001b[0;34m\u001b[0m\u001b[0m\n",
      "\u001b[0;32m/Library/Frameworks/Python.framework/Versions/3.9/lib/python3.9/site-packages/sklearn/utils/validation.py\u001b[0m in \u001b[0;36m_num_samples\u001b[0;34m(x)\u001b[0m\n\u001b[1;32m    319\u001b[0m     \u001b[0;32mif\u001b[0m \u001b[0mhasattr\u001b[0m\u001b[0;34m(\u001b[0m\u001b[0mx\u001b[0m\u001b[0;34m,\u001b[0m \u001b[0;34m\"shape\"\u001b[0m\u001b[0;34m)\u001b[0m \u001b[0;32mand\u001b[0m \u001b[0mx\u001b[0m\u001b[0;34m.\u001b[0m\u001b[0mshape\u001b[0m \u001b[0;32mis\u001b[0m \u001b[0;32mnot\u001b[0m \u001b[0;32mNone\u001b[0m\u001b[0;34m:\u001b[0m\u001b[0;34m\u001b[0m\u001b[0;34m\u001b[0m\u001b[0m\n\u001b[1;32m    320\u001b[0m         \u001b[0;32mif\u001b[0m \u001b[0mlen\u001b[0m\u001b[0;34m(\u001b[0m\u001b[0mx\u001b[0m\u001b[0;34m.\u001b[0m\u001b[0mshape\u001b[0m\u001b[0;34m)\u001b[0m \u001b[0;34m==\u001b[0m \u001b[0;36m0\u001b[0m\u001b[0;34m:\u001b[0m\u001b[0;34m\u001b[0m\u001b[0;34m\u001b[0m\u001b[0m\n\u001b[0;32m--> 321\u001b[0;31m             raise TypeError(\n\u001b[0m\u001b[1;32m    322\u001b[0m                 \u001b[0;34m\"Singleton array %r cannot be considered a valid collection.\"\u001b[0m \u001b[0;34m%\u001b[0m \u001b[0mx\u001b[0m\u001b[0;34m\u001b[0m\u001b[0;34m\u001b[0m\u001b[0m\n\u001b[1;32m    323\u001b[0m             )\n",
      "\u001b[0;31mTypeError\u001b[0m: Singleton array array(<6000x220633 sparse matrix of type '<class 'numpy.float64'>'\n\twith 49090 stored elements in Compressed Sparse Row format>, dtype=object) cannot be considered a valid collection."
     ]
    },
    {
     "data": {
      "image/png": "[encoded data removed]",
      "text/plain": [
       "<Figure size 432x288 with 2 Axes>"
      ]
     },
     "metadata": {
      "needs_background": "light"
     },
     "output_type": "display_data"
    }
   ],
   "source": [
    "# Classifier - Algorithm - SVM\n",
    "# fit the training dataset on the classifier\n",
    "SVM = svm.SVC(kernel='rbf', gamma=1.3, C=1000)\n",
    "SVM.fit(Train_X_Tfidf,y_train)\n",
    "# predict the labels on validation dataset\n",
    "predictions_SVM = SVM.predict(Test_X_Tfidf)\n",
    "print(\"SVM Classification Report for Unigrams\")\n",
    "# Print the classification report\n",
    "print(classification_report(y_test,predictions_SVM))\n",
    "\n",
    "print(\"SVM Accuracy Score for Unigrams-> \", end=\"\")\n",
    "print(round(accuracy_score(predictions_SVM, y_test)*100,4))\n",
    "print(\"SVM Precision Score for Unigrams-> \", end=\"\")\n",
    "print(round(precision_score(predictions_SVM, y_test, average='weighted')*100,4))\n",
    "print(\"SVM Recall Score for Unigrams-> \", end=\"\")\n",
    "print(round(recall_score(predictions_SVM, y_test, average='weighted')*100,4))\n",
    "print(\"SVM F1 Score for Unigrams-> \", end=\"\")\n",
    "print(round(f1_score(predictions_SVM, y_test, average='weighted')*100,4))\n",
    "\n",
    "print()\n",
    "print(\"SVM Confusion Matrix for Unigrams\")\n",
    "# Print the confusion matrix\n",
    "ConfusionMatrixDisplay.from_estimator(SVM, Test_X_Tfidf, y_test)\n",
    "\n",
    "cm=multilabel_confusion_matrix(Test_X_Tfidf, y_test, labels=SVM.classes_)\n",
    "print(cm)"
   ]
  },
  {
   "cell_type": "markdown",
   "metadata": {},
   "source": [
    "### Decision Tree Algorithm for Unigrams\n",
    "\n",
    "The Decision Tree is set up with the hyperparameters:\n",
    "<br>\n",
    "* random state- 0\n",
    "<br>"
   ]
  },
  {
   "cell_type": "code",
   "execution_count": 39,
   "metadata": {},
   "outputs": [
    {
     "name": "stdout",
     "output_type": "stream",
     "text": [
      "Decision Tree Classification Report for Unigrams\n",
      "              precision    recall  f1-score   support\n",
      "\n",
      "          -1       0.64      0.55      0.59      2000\n",
      "           0       0.55      0.67      0.61      2000\n",
      "           1       0.75      0.71      0.73      2000\n",
      "\n",
      "    accuracy                           0.64      6000\n",
      "   macro avg       0.65      0.64      0.64      6000\n",
      "weighted avg       0.65      0.64      0.64      6000\n",
      "\n",
      "Decision Tree Accuracy Score for Unigrams-> 64.2167\n",
      "Decision Tree Precision Score for Unigrams-> 64.6938\n",
      "Decision Tree Recall Score for Unigrams-> 64.2167\n",
      "Decision Tree F1 Score for Unigrams-> 64.1277\n",
      "\n",
      "Decision Tree Confusion Matrix for Unigrams\n"
     ]
    },
    {
     "data": {
      "text/plain": [
       "<sklearn.metrics._plot.confusion_matrix.ConfusionMatrixDisplay at 0x7fbc4bbaf910>"
      ]
     },
     "execution_count": 39,
     "metadata": {},
     "output_type": "execute_result"
    },
    {
     "data": {
      "image/png": "[encoded data removed]",
      "text/plain": [
       "<Figure size 432x288 with 2 Axes>"
      ]
     },
     "metadata": {
      "needs_background": "light"
     },
     "output_type": "display_data"
    }
   ],
   "source": [
    "# Classifier - Algorithm - Decision Tree\n",
    "# fit the training dataset on the classifier\n",
    "dt = DecisionTreeClassifier(random_state=0)\n",
    "dt.fit(Train_X_Tfidf, y_train)\n",
    "\n",
    "# predict the labels on validation dataset\n",
    "predictions_DecisionTree = dt.predict(Test_X_Tfidf)\n",
    "print(\"Decision Tree Classification Report for Unigrams\")\n",
    "\n",
    "# Print the classification report\n",
    "print(classification_report(y_test,predictions_DecisionTree))\n",
    "\n",
    "print(\"Decision Tree Accuracy Score for Unigrams-> \", end=\"\")\n",
    "print(round(accuracy_score(predictions_DecisionTree, y_test)*100,4))\n",
    "print(\"Decision Tree Precision Score for Unigrams-> \", end=\"\")\n",
    "print(round(precision_score(predictions_DecisionTree, y_test, average='weighted')*100,4))\n",
    "print(\"Decision Tree Recall Score for Unigrams-> \", end=\"\")\n",
    "print(round(recall_score(predictions_DecisionTree, y_test, average='weighted')*100,4))\n",
    "print(\"Decision Tree F1 Score for Unigrams-> \", end=\"\")\n",
    "print(round(f1_score(predictions_DecisionTree, y_test, average='weighted')*100,4))\n",
    "\n",
    "print()\n",
    "print(\"Decision Tree Confusion Matrix for Unigrams\")\n",
    "# Print the confusion matrix\n",
    "ConfusionMatrixDisplay.from_estimator(dt, Test_X_Tfidf, y_test)"
   ]
  },
  {
   "cell_type": "markdown",
   "metadata": {},
   "source": [
    "### Feature Extraction (Bigrams)\n",
    "\n",
    "To extract the feature, use TF-IDF vectorizer.\n",
    "<br>\n",
    "---\n",
    "! Run the cell below to vectorize the tweets by bigrams, and to see the top 20 bigrams with the highest frequencies"
   ]
  },
  {
   "cell_type": "code",
   "execution_count": 43,
   "metadata": {},
   "outputs": [
    {
     "name": "stdout",
     "output_type": "stream",
     "text": [
      "Here are the top 20 terms with the highest TF-IDF scores:\n",
      "climate change                                     Score: 341.1373618467257\n",
      "global warming                                     Score: 331.109056528575\n",
      "believe climate                                    Score: 177.1833392869434\n",
      "going die                                          Score: 132.61919808940232\n",
      "rt thinking                                        Score: 132.19882001121715\n",
      "die husband                                        Score: 131.5860426465852\n",
      "thinking going                                     Score: 131.5860426465852\n",
      "husband believe                                    Score: 131.53821712360204\n",
      "rt presidentelect                                  Score: 52.25014325039279\n",
      "change hoax                                        Score: 47.97916412507358\n",
      "presidentelect believe                             Score: 44.74900365221551\n",
      "going say                                          Score: 44.38395813000029\n",
      "change millions                                    Score: 44.29321556051859\n",
      "say mr                                             Score: 44.29321556051859\n",
      "people going                                       Score: 44.22804645297161\n",
      "millions people                                    Score: 44.170780727572534\n",
      "rt global                                          Score: 42.581438226275225\n",
      "warming real                                       Score: 40.313779462542854\n",
      "trump thinks                                       Score: 36.93966623027278\n",
      "donald trump                                       Score: 33.436200019171466\n"
     ]
    }
   ],
   "source": [
    "#To extract the features use TF-IDF vectorizer\n",
    "Tfidf_vect = TfidfVectorizer(ngram_range=(2,2)) #Bigrams\n",
    "Tfidf_vect.fit(data['changedtweet']) #Fit the vectorizer to the pre-processed tweets\n",
    "Train_X_Tfidf = Tfidf_vect.transform(X_train) #Get the vectorized tweets for trainig\n",
    "Test_X_Tfidf = Tfidf_vect.transform(X_test) #Get the vectorized tweets for testing\n",
    "\n",
    "display_top_n_scores(Tfidf_vect, Train_X_Tfidf, 20)"
   ]
  },
  {
   "cell_type": "markdown",
   "metadata": {},
   "source": [
    "### SVM Algorithm for Bigrams\n",
    "\n",
    "The SVM is set up with the hyperparameters:\n",
    "<br>\n",
    "* Kernel- Radial Basis Function\n",
    "* Gamma- 1.3\n",
    "* C- 1000\n",
    "<br>"
   ]
  },
  {
   "cell_type": "code",
   "execution_count": 44,
   "metadata": {},
   "outputs": [
    {
     "name": "stdout",
     "output_type": "stream",
     "text": [
      "SVM Classification Report for Bigrams\n",
      "              precision    recall  f1-score   support\n",
      "\n",
      "          -1       0.66      0.68      0.67      2000\n",
      "           0       0.55      0.72      0.63      2000\n",
      "           1       0.97      0.63      0.76      2000\n",
      "\n",
      "    accuracy                           0.68      6000\n",
      "   macro avg       0.73      0.68      0.69      6000\n",
      "weighted avg       0.73      0.68      0.69      6000\n",
      "\n",
      "SVM Accuracy Score for Bigrams-> 67.9\n",
      "SVM Precision Score for Bigrams-> 68.9252\n",
      "SVM Recall Score for Bigrams-> 67.9\n",
      "SVM F1 Score for Bigrams-> 67.1229\n",
      "\n",
      "SVM Confusion Matrix for Bigrams\n"
     ]
    },
    {
     "data": {
      "text/plain": [
       "<sklearn.metrics._plot.confusion_matrix.ConfusionMatrixDisplay at 0x7fbc4cefb760>"
      ]
     },
     "execution_count": 44,
     "metadata": {},
     "output_type": "execute_result"
    },
    {
     "data": {
      "image/png": "[encoded data removed]",
      "text/plain": [
       "<Figure size 432x288 with 2 Axes>"
      ]
     },
     "metadata": {
      "needs_background": "light"
     },
     "output_type": "display_data"
    }
   ],
   "source": [
    "# Classifier - Algorithm - SVM\n",
    "# fit the training dataset on the classifier\n",
    "SVM = svm.SVC(kernel='rbf', gamma=1.3, C=1000)\n",
    "SVM.fit(Train_X_Tfidf,y_train)\n",
    "# predict the labels on validation dataset\n",
    "predictions_SVM = SVM.predict(Test_X_Tfidf)\n",
    "print(\"SVM Classification Report for Bigrams\")\n",
    "\n",
    "# Print the classification report\n",
    "print(classification_report(y_test,predictions_SVM))\n",
    "\n",
    "\n",
    "print(\"SVM Accuracy Score for Bigrams-> \", end=\"\")\n",
    "print(round(accuracy_score(predictions_SVM, y_test)*100,4))\n",
    "print(\"SVM Precision Score for Bigrams-> \", end=\"\")\n",
    "print(round(precision_score(predictions_SVM, y_test, average='weighted')*100,4))\n",
    "print(\"SVM Recall Score for Bigrams-> \", end=\"\")\n",
    "print(round(recall_score(predictions_SVM, y_test, average='weighted')*100,4))\n",
    "print(\"SVM F1 Score for Bigrams-> \", end=\"\")\n",
    "print(round(f1_score(predictions_SVM, y_test, average='weighted')*100,4))\n",
    "\n",
    "print()\n",
    "print(\"SVM Confusion Matrix for Bigrams\")\n",
    "# Print the confusion matrix\n",
    "ConfusionMatrixDisplay.from_estimator(SVM, Test_X_Tfidf, y_test)"
   ]
  },
  {
   "cell_type": "markdown",
   "metadata": {},
   "source": [
    "### Decision Tree Algorithm for Bigrams\n",
    "\n",
    "The Decision Tree is set up with the hyperparameters:\n",
    "<br>\n",
    "* random state- 0\n",
    "<br>"
   ]
  },
  {
   "cell_type": "code",
   "execution_count": 50,
   "metadata": {},
   "outputs": [
    {
     "name": "stdout",
     "output_type": "stream",
     "text": [
      "Decision Tree Classification Report for Bigrams\n",
      "              precision    recall  f1-score   support\n",
      "\n",
      "          -1       0.69      0.39      0.50      2000\n",
      "           0       0.50      0.78      0.61      2000\n",
      "           1       0.82      0.72      0.77      2000\n",
      "\n",
      "    accuracy                           0.63      6000\n",
      "   macro avg       0.67      0.63      0.63      6000\n",
      "weighted avg       0.67      0.63      0.63      6000\n",
      "\n",
      "Decision Tree Accuracy Score for Bigrams-> 63.0167\n",
      "Decision Tree Precision Score for Bigrams-> 69.0803\n",
      "Decision Tree Recall Score for Bigrams-> 63.0167\n",
      "Decision Tree F1 Score for Bigrams-> 63.5244\n",
      "\n",
      "Decision Tree Confusion Matrix for Bigrams\n"
     ]
    },
    {
     "data": {
      "text/plain": [
       "<sklearn.metrics._plot.confusion_matrix.ConfusionMatrixDisplay at 0x7fbc55a7f730>"
      ]
     },
     "execution_count": 50,
     "metadata": {},
     "output_type": "execute_result"
    },
    {
     "data": {
      "image/png": "[encoded data removed]",
      "text/plain": [
       "<Figure size 432x288 with 2 Axes>"
      ]
     },
     "metadata": {
      "needs_background": "light"
     },
     "output_type": "display_data"
    }
   ],
   "source": [
    "# Classifier - Algorithm - Decision Tree\n",
    "# fit the training dataset on the classifier\n",
    "dt = DecisionTreeClassifier(random_state=0)\n",
    "dt.fit(Train_X_Tfidf, y_train)\n",
    "# predict the labels on validation dataset\n",
    "predictions_DecisionTree = dt.predict(Test_X_Tfidf)\n",
    "print(\"Decision Tree Classification Report for Bigrams\")\n",
    "# Print the classification report\n",
    "print(classification_report(y_test,predictions_DecisionTree))\n",
    "\n",
    "print(\"Decision Tree Accuracy Score for Bigrams-> \", end=\"\")\n",
    "print(round(accuracy_score(predictions_DecisionTree, y_test)*100,4))\n",
    "print(\"Decision Tree Precision Score for Bigrams-> \", end=\"\")\n",
    "print(round(precision_score(predictions_DecisionTree, y_test, average='weighted')*100,4))\n",
    "print(\"Decision Tree Recall Score for Bigrams-> \", end=\"\")\n",
    "print(round(recall_score(predictions_DecisionTree, y_test, average='weighted')*100,4))\n",
    "print(\"Decision Tree F1 Score for Bigrams-> \", end=\"\")\n",
    "print(round(f1_score(predictions_DecisionTree, y_test, average='weighted')*100,4))\n",
    "\n",
    "print()\n",
    "print(\"Decision Tree Confusion Matrix for Bigrams\")\n",
    "# Print the confusion matrix\n",
    "ConfusionMatrixDisplay.from_estimator(dt, Test_X_Tfidf, y_test)"
   ]
  },
  {
   "cell_type": "markdown",
   "metadata": {},
   "source": [
    "### Feature Extraction (Trigrams)\n",
    "\n",
    "To extract the feature, use TF-IDF vectorizer.\n",
    "<br>\n",
    "---\n",
    "! Run the cell below to vectorize the tweets by trigrams, and to see the top 20 trigrams with the highest frequencies"
   ]
  },
  {
   "cell_type": "code",
   "execution_count": 51,
   "metadata": {},
   "outputs": [
    {
     "name": "stdout",
     "output_type": "stream",
     "text": [
      "Here are the top 20 terms with the highest TF-IDF scores:\n",
      "believe climate change                             Score: 175.8943183597051\n",
      "die husband believe                                Score: 131.95784142997653\n",
      "going die husband                                  Score: 131.95784142997653\n",
      "rt thinking going                                  Score: 131.95784142997653\n",
      "thinking going die                                 Score: 131.95784142997653\n",
      "husband believe climate                            Score: 131.90988077509888\n",
      "climate change hoax                                Score: 46.67350023284448\n",
      "presidentelect believe climate                     Score: 44.536754880959045\n",
      "change millions people                             Score: 44.11778529831334\n",
      "going say mr                                       Score: 44.11778529831334\n",
      "millions people going                              Score: 44.11778529831334\n",
      "people going say                                   Score: 44.11778529831334\n",
      "climate change millions                            Score: 44.08512929693242\n",
      "rt presidentelect believe                          Score: 44.0768548141429\n",
      "rt global warming                                  Score: 41.29486264378576\n",
      "global warming real                                Score: 39.562757799325674\n",
      "travels world tackle                               Score: 31.78041466148288\n",
      "world tackle climate                               Score: 31.74751306632346\n",
      "tackle climate change                              Score: 31.46088984750184\n",
      "rt watch right                                     Score: 31.34583482065587\n"
     ]
    }
   ],
   "source": [
    "#To extract the features use TF-IDF vectorizer\n",
    "Tfidf_vect = TfidfVectorizer(ngram_range=(3,3)) #Unigram\n",
    "Tfidf_vect.fit(data['changedtweet']) #Fit the vectorizer to the pre-processed tweets\n",
    "Train_X_Tfidf = Tfidf_vect.transform(X_train) #Get the vectorized tweets for trainig\n",
    "Test_X_Tfidf = Tfidf_vect.transform(X_test) #Get the vectorized tweets for testing\n",
    "\n",
    "display_top_n_scores(Tfidf_vect, Train_X_Tfidf, 20)"
   ]
  },
  {
   "cell_type": "markdown",
   "metadata": {},
   "source": [
    "### SVM Algorithm for Trigrams\n",
    "\n",
    "The SVM is set up with the hyperparameters:\n",
    "<br>\n",
    "* Kernel- Radial Basis Function\n",
    "* Gamma- 1.3\n",
    "* C- 1000\n",
    "<br>"
   ]
  },
  {
   "cell_type": "code",
   "execution_count": 52,
   "metadata": {},
   "outputs": [
    {
     "name": "stdout",
     "output_type": "stream",
     "text": [
      "SVM Classification Report for Trigrams\n",
      "              precision    recall  f1-score   support\n",
      "\n",
      "          -1       0.63      0.55      0.59      2000\n",
      "           0       0.51      0.78      0.62      2000\n",
      "           1       0.98      0.59      0.73      2000\n",
      "\n",
      "    accuracy                           0.64      6000\n",
      "   macro avg       0.71      0.64      0.65      6000\n",
      "weighted avg       0.71      0.64      0.65      6000\n",
      "\n",
      "SVM Accuracy Score for Trigrams-> 64.0\n",
      "SVM Precision Score for Trigrams-> 67.4366\n",
      "SVM Recall Score for Trigrams-> 64.0\n",
      "SVM F1 Score for Trigrams-> 63.2697\n",
      "\n",
      "SVM Confusion Matrix for Trigrams\n"
     ]
    },
    {
     "data": {
      "text/plain": [
       "<sklearn.metrics._plot.confusion_matrix.ConfusionMatrixDisplay at 0x7fbc4c7d6bb0>"
      ]
     },
     "execution_count": 52,
     "metadata": {},
     "output_type": "execute_result"
    },
    {
     "data": {
      "image/png": "[encoded data removed]",
      "text/plain": [
       "<Figure size 432x288 with 2 Axes>"
      ]
     },
     "metadata": {
      "needs_background": "light"
     },
     "output_type": "display_data"
    }
   ],
   "source": [
    "# Classifier - Algorithm - SVM\n",
    "# fit the training dataset on the classifier\n",
    "SVM = svm.SVC(kernel='rbf', gamma=1.3, C=1000)\n",
    "SVM.fit(Train_X_Tfidf,y_train)\n",
    "# predict the labels on validation dataset\n",
    "predictions_SVM = SVM.predict(Test_X_Tfidf)\n",
    "print(\"SVM Classification Report for Trigrams\")\n",
    "# Print the classification report\n",
    "print(classification_report(y_test,predictions_SVM))\n",
    "\n",
    "\n",
    "print(\"SVM Accuracy Score for Trigrams-> \", end=\"\")\n",
    "print(round(accuracy_score(predictions_SVM, y_test)*100,4))\n",
    "print(\"SVM Precision Score for Trigrams-> \", end=\"\")\n",
    "print(round(precision_score(predictions_SVM, y_test, average='weighted')*100,4))\n",
    "print(\"SVM Recall Score for Trigrams-> \", end=\"\")\n",
    "print(round(recall_score(predictions_SVM, y_test, average='weighted')*100,4))\n",
    "print(\"SVM F1 Score for Trigrams-> \", end=\"\")\n",
    "print(round(f1_score(predictions_SVM, y_test, average='weighted')*100,4))\n",
    "\n",
    "print()\n",
    "print(\"SVM Confusion Matrix for Trigrams\")\n",
    "# Print the confusion matrix\n",
    "ConfusionMatrixDisplay.from_estimator(SVM, Test_X_Tfidf, y_test)"
   ]
  },
  {
   "cell_type": "markdown",
   "metadata": {},
   "source": [
    "### Decision Tree Algorithm for Trigrams\n",
    "\n",
    "The Decision Tree is set up with the hyperparameters:\n",
    "<br>\n",
    "* random state- 0\n",
    "<br>"
   ]
  },
  {
   "cell_type": "code",
   "execution_count": 53,
   "metadata": {},
   "outputs": [
    {
     "name": "stdout",
     "output_type": "stream",
     "text": [
      "Decision Tree Classification Report for Trigrams\n",
      "              precision    recall  f1-score   support\n",
      "\n",
      "          -1       0.69      0.39      0.50      2000\n",
      "           0       0.50      0.78      0.61      2000\n",
      "           1       0.82      0.72      0.77      2000\n",
      "\n",
      "    accuracy                           0.63      6000\n",
      "   macro avg       0.67      0.63      0.63      6000\n",
      "weighted avg       0.67      0.63      0.63      6000\n",
      "\n",
      "Decision Tree Accuracy Score for Trigrams-> 63.0167\n",
      "Decision Tree Precision Score for Trigrams-> 69.0803\n",
      "Decision Tree Recall Score for Trigrams-> 63.0167\n",
      "Decision Tree F1 Score for Trigrams-> 63.5244\n",
      "\n",
      "Decision Tree Confusion Matrix for Trigrams\n"
     ]
    },
    {
     "data": {
      "text/plain": [
       "<sklearn.metrics._plot.confusion_matrix.ConfusionMatrixDisplay at 0x7fbc3aea9760>"
      ]
     },
     "execution_count": 53,
     "metadata": {},
     "output_type": "execute_result"
    },
    {
     "data": {
      "image/png": "[encoded data removed]",
      "text/plain": [
       "<Figure size 432x288 with 2 Axes>"
      ]
     },
     "metadata": {
      "needs_background": "light"
     },
     "output_type": "display_data"
    }
   ],
   "source": [
    "# Classifier - Algorithm - Decision Tree\n",
    "# fit the training dataset on the classifier\n",
    "dt = DecisionTreeClassifier(random_state=0)\n",
    "dt.fit(Train_X_Tfidf, y_train)\n",
    "# predict the labels on validation dataset\n",
    "predictions_DecisionTree = dt.predict(Test_X_Tfidf)\n",
    "print(\"Decision Tree Classification Report for Trigrams\")\n",
    "# Print the classification report\n",
    "print(classification_report(y_test,predictions_DecisionTree))\n",
    "\n",
    "print(\"Decision Tree Accuracy Score for Trigrams-> \", end=\"\")\n",
    "print(round(accuracy_score(predictions_DecisionTree, y_test)*100,4))\n",
    "print(\"Decision Tree Precision Score for Trigrams-> \", end=\"\")\n",
    "print(round(precision_score(predictions_DecisionTree, y_test, average='weighted')*100,4))\n",
    "print(\"Decision Tree Recall Score for Trigrams-> \", end=\"\")\n",
    "print(round(recall_score(predictions_DecisionTree, y_test, average='weighted')*100,4))\n",
    "print(\"Decision Tree F1 Score for Trigrams-> \", end=\"\")\n",
    "print(round(f1_score(predictions_DecisionTree, y_test, average='weighted')*100,4))\n",
    "\n",
    "print()\n",
    "print(\"Decision Tree Confusion Matrix for Trigrams\")\n",
    "# Print the confusion matrix\n",
    "ConfusionMatrixDisplay.from_estimator(dt, Test_X_Tfidf, y_test)"
   ]
  }
 ],
 "metadata": {
  "interpreter": {
   "hash": "aee8b7b246df8f9039afb4144a1f6fd8d2ca17a180786b69acc140d282b71a49"
  },
  "kernelspec": {
   "display_name": "Python 3.9.7 64-bit",
   "language": "python",
   "name": "python3"
  },
  "language_info": {
   "codemirror_mode": {
    "name": "ipython",
    "version": 3
   },
   "file_extension": ".py",
   "mimetype": "text/x-python",
   "name": "python",
   "nbconvert_exporter": "python",
   "pygments_lexer": "ipython3",
   "version": "3.9.7"
  }
 },
 "nbformat": 4,
 "nbformat_minor": 4
}
